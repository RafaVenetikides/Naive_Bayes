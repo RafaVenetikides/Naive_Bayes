{
 "cells": [
  {
   "cell_type": "code",
   "execution_count": 1,
   "metadata": {
    "ExecuteTime": {
     "start_time": "2023-04-25T19:48:35.291495Z",
     "end_time": "2023-04-25T19:48:45.223542Z"
    }
   },
   "outputs": [],
   "source": [
    "from sklearn.datasets import load_breast_cancer\n",
    "from tabulate import tabulate\n",
    "import pandas as pd\n",
    "from NaiveBayes import Naive_bayes\n",
    "from sklearn.model_selection import GridSearchCV, train_test_split"
   ]
  },
  {
   "cell_type": "code",
   "execution_count": 2,
   "metadata": {
    "ExecuteTime": {
     "start_time": "2023-04-25T19:48:44.956501Z",
     "end_time": "2023-04-25T19:48:45.249687Z"
    }
   },
   "outputs": [],
   "source": [
    "X, y=load_breast_cancer(return_X_y=True)\n",
    "X, X_val, y, y_val=train_test_split(X,y, train_size=0.8, random_state=42, stratify=y)"
   ]
  },
  {
   "cell_type": "code",
   "execution_count": 3,
   "metadata": {
    "ExecuteTime": {
     "start_time": "2023-04-25T19:48:44.978760Z",
     "end_time": "2023-04-25T19:48:45.250689Z"
    }
   },
   "outputs": [],
   "source": [
    "nb  = Naive_bayes()\n",
    "\n",
    "nb.fit(X, y)\n"
   ]
  },
  {
   "cell_type": "code",
   "execution_count": 4,
   "metadata": {
    "ExecuteTime": {
     "start_time": "2023-04-25T19:48:45.017864Z",
     "end_time": "2023-04-25T19:48:45.252235Z"
    }
   },
   "outputs": [
    {
     "name": "stdout",
     "output_type": "stream",
     "text": [
      "0.584070796460177\n",
      "1\n"
     ]
    }
   ],
   "source": [
    "#acuracia\n",
    "certos = 0\n",
    "cont = 0\n",
    "erros =0\n",
    "for i in range(len(y_val)):\n",
    "    try:\n",
    "        if nb.predict(X_val[i]) == y_val[i]:\n",
    "            certos +=1\n",
    "        cont +=1        \n",
    "    except:\n",
    "        erros +=1\n",
    "\n",
    "print(certos/cont)\n",
    "print(erros)"
   ]
  }
 ],
 "metadata": {
  "kernelspec": {
   "display_name": "Python 3",
   "language": "python",
   "name": "python3"
  },
  "language_info": {
   "codemirror_mode": {
    "name": "ipython",
    "version": 3
   },
   "file_extension": ".py",
   "mimetype": "text/x-python",
   "name": "python",
   "nbconvert_exporter": "python",
   "pygments_lexer": "ipython3",
   "version": "3.8.9"
  },
  "orig_nbformat": 4
 },
 "nbformat": 4,
 "nbformat_minor": 2
}
