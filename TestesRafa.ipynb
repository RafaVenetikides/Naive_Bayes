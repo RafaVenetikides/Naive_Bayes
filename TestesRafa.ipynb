{
 "cells": [
  {
   "cell_type": "code",
   "execution_count": null,
   "metadata": {},
   "outputs": [],
   "source": [
    "import numpy as np\n",
    "import pandas as pd\n",
    "from sklearn.datasets import load_breast_cancer\n",
    "import math\n",
    "import collections"
   ]
  },
  {
   "cell_type": "code",
   "execution_count": null,
   "metadata": {},
   "outputs": [],
   "source": [
    "X, y = load_breast_cancer(return_X_y=True)\n",
    "\n",
    "valores1 = []\n",
    "resultados = []\n",
    "\n",
    "pYes = 0\n",
    "pNo = 0 \n",
    "\n",
    "for i in range(len(X)):\n",
    "    for j in range(len(X[0])):\n",
    "        if X[i][0] not in valores1:\n",
    "            valores1.append(X[i][0])\n",
    "\n",
    "print(valores1)\n",
    "\n",
    "print(X[0])\n",
    "\n",
    "\n",
    "def probabilities(y):\n",
    "\n",
    "    total = 0\n",
    "    totalYes = 0\n",
    "    totalNo = 0\n",
    "\n",
    "    for i in y:\n",
    "        if i == 0:\n",
    "            totalNo += 1\n",
    "        if i == 1:\n",
    "            totalYes += 1\n",
    "        total += 1\n",
    "\n",
    "    pYes = totalYes/total\n",
    "    pNo = totalNo/total\n",
    "\n",
    "    probabilities = [pYes, pNo]\n",
    "    return probabilities\n",
    "\n",
    "print(probabilities(y))"
   ]
  }
 ],
 "metadata": {
  "language_info": {
   "name": "python"
  },
  "orig_nbformat": 4
 },
 "nbformat": 4,
 "nbformat_minor": 2
}
